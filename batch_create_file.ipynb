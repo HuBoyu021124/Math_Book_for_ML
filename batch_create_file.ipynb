{
 "cells": [
  {
   "cell_type": "code",
   "execution_count": 1,
   "metadata": {},
   "outputs": [],
   "source": [
    "import os\n",
    "\n",
    "ch = 5\n",
    "\n",
    "for i in range(1, 10):\n",
    "    f = open(f\"./docs/ch{ch}/ch{ch}_{i}.md\", \"a\")\n",
    "    f.write(\"\")\n",
    "    f.close()\n",
    "f = open(f\"./docs/ch{ch}/ch{ch}_习题.md\", \"a\")\n",
    "f.write(\"\")\n",
    "f.close()"
   ]
  },
  {
   "cell_type": "code",
   "execution_count": null,
   "metadata": {},
   "outputs": [],
   "source": []
  }
 ],
 "metadata": {
  "kernelspec": {
   "display_name": "base",
   "language": "python",
   "name": "python3"
  },
  "language_info": {
   "codemirror_mode": {
    "name": "ipython",
    "version": 3
   },
   "file_extension": ".py",
   "mimetype": "text/x-python",
   "name": "python",
   "nbconvert_exporter": "python",
   "pygments_lexer": "ipython3",
   "version": "3.9.20"
  }
 },
 "nbformat": 4,
 "nbformat_minor": 2
}
